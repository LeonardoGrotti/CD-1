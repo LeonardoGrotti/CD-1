{
 "cells": [
  {
   "cell_type": "markdown",
   "metadata": {},
   "source": [
    "# Atividade: Variáveis qualitativas com a PNAD (ALUNOS) - MATHEUS CAMPBELL\n",
    "Aula 02\n",
    "Link úteis:\n",
    "Leitura prévia necessária: Magalhães e Lima (7ª. Edição): pág. 9 a 16 – destacando para variáveis qualitativas.\n",
    "10 Minutes to Pandas: http://pandas.pydata.org/pandas-docs/stable/10min.html\n",
    "Essential Basic Functionality: http://pandas.pydata.org/pandas-docs/stable/basics.html\n",
    "Estude a aula Aula02 Análise Exploratoria Variáveis Qualitativas-ALUNOS.ipynb, o qual contém uma introdução ao Jupyter Notebook. A publicação dessa aula tem como objetivo auxiliá-lo, caso queira, no desenvolvimento dos seus próximos programas, como esta atividade.\n",
    "Hoje:\n",
    "Analisar variáveis qualitativas de forma uni e bivariadas utilizando tabelas de frequências e gráficos de barras e de pizza (ou setor).\n",
    "Trabalhar com a base de dados da PNAD 2013 - Pesquisa Nacional por Amostra de Domicílios\n",
    "Próxima aula:\n",
    "Leitura prévia necessária: Magalhães e Lima (7ª. Edição): pág. 9 a 17 – destacando para variáveis quantitativas; pág. 106 e 107 (Definição 4.1 e Exemplo 4.1).\n",
    "PNAD 2013 – PESQUISA NACIONAL POR AMOSTRA DE DOMICÍLIOS\n",
    "Base de dados reduzida:  pes2013A.txt (75 MB) [Acesse a base de dados aqui: https://dl.dropboxusercontent.com/u/65763596/Aula02/pes2013A.txt]\n",
    "Dicionário das variáveis:  Dicionário de variáveis de pessoas - PNAD 2013.xlsx [Acesse dicionário aqui: https://dl.dropboxusercontent.com/u/65763596/Aula02/Dicion%C3%A1rio%20de%20vari%C3%A1veis%20de%20pessoas%20-%20PNAD%202013.xls]\n",
    "Muitos especialistas na área de negócios dizem que empresários mais bem sucedidos são aqueles que fazem um planejamento antes de começar seu próprio negócio. Nessa visão, imagine que o Sr. Gold tenha como grande objetivo abrir uma nova faculdade e para isso deseja estudar o perfil do estudante que cursa ensino médio ou pré-vestibular e do que cursa ensino superior.\n",
    "Assuma que as variáveis de interesse a respeito dos estudantes sejam relativamente as mesmas de 2013 até o momento atual. Nesse caso, seja criativo para ajudar o Sr. Gold que deseja abrir seu negócio, mas não tem certeza sobre quais variáveis o interessam.\n",
    "Vocês podem ajudá-lo?!\n",
    "As variáveis a seguir devem fazer parte da sua análise:\n",
    "V0302: sexo\n",
    "V0404: cor ou raça\n",
    "V6002: rede de ensino\n",
    "V4802: nível de ensino e grupos de séries do ensino fundamental que frequentavam (todos os estudantes)\n",
    "Crie uma variável com região do indivíduo amostrado considerando a variável UF que define o estado e também trabalhe com essa nova variável em suas análises.\n",
    "Escolha mais pelo menos DUAS variáveis qualitativas para completar sua análise!!\n",
    "Faça uma análise exploratória apenas com as variáveis qualitativas com foco no objetivo do Sr. Gold.\n",
    "Sua análise deve conter pelo menos uma das seguintes visualizações:\n",
    "Gráfico de colunas (bar) e setor (pie) com as frequências relativas cadas categorias das variáveis qualitativas.\n",
    "Tabela cruzada entre pares de variaveis qualitativas. Montar o gráfico de colunas. Repetir o processo habilitando a opção \"stacked=True\".\n",
    "Crie um repositório chamado CD em seu Github\n",
    "Neste repositório, salve seu trabalho numa pasta chamada aula2\n",
    "Por exemplo, se seu login for pikachu o projeto vai estar na pasta:\n",
    "https://github.com/pikachu/CD/aula2\n",
    "Terça-feira (dia 16/08), no horário de atendimento da sua turma, deverá apresentar aos NINJAS!!\n"
   ]
  },
  {
   "cell_type": "code",
   "execution_count": 57,
   "metadata": {
    "collapsed": true
   },
   "outputs": [],
   "source": [
    "%matplotlib inline\n",
    "import pandas as pd\n",
    "import matplotlib.pyplot as plt\n",
    "import os\n",
    "import numpy as np\n",
    "dados = pd.read_csv(\"pes2013A.txt\", sep=\" \")"
   ]
  },
  {
   "cell_type": "code",
   "execution_count": 58,
   "metadata": {
    "collapsed": true
   },
   "outputs": [],
   "source": [
    "d = pd.DataFrame()\n",
    "d[\"sexo\"]=dados.V0302\n",
    "d[\"raça\"]=dados.V0404\n",
    "d[\"rede.ensino\"]=dados.V6002\n",
    "d[\"nivel.ensino\"]=dados.V4802\n",
    "dados[\"regiao\"]=dados.UF\n",
    "dados[\"jovens\"]=dados.V8005"
   ]
  },
  {
   "cell_type": "code",
   "execution_count": 59,
   "metadata": {
    "collapsed": false
   },
   "outputs": [
    {
     "name": "stdout",
     "output_type": "stream",
     "text": [
      "Frequências relativas por sexo:\n",
      "Feminino     51.4\n",
      "Masculino    48.6\n",
      "dtype: float64 \n",
      "\n"
     ]
    },
    {
     "data": {
      "text/plain": [
       "<matplotlib.text.Text at 0x24880caf518>"
      ]
     },
     "execution_count": 59,
     "metadata": {},
     "output_type": "execute_result"
    },
    {
     "data": {
      "image/png": "[encoded data removed]",
      "text/plain": [
       "<matplotlib.figure.Figure at 0x24880cbd5f8>"
      ]
     },
     "metadata": {},
     "output_type": "display_data"
    }
   ],
   "source": [
    "#TRABALHANDO COM O SEXO\n",
    "dados.V0302.value_counts()\n",
    "dados.V0302 = dados.V0302.astype('category')\n",
    "dados.V0302.cat.categories = ('Masculino', 'Feminino')\n",
    "\n",
    "n=dados.shape[0]\n",
    "\n",
    "print('Frequências relativas por sexo:')\n",
    "ut1 = (dados.V0302.value_counts()/n*100).round(decimals=1)\n",
    "print(ut1,'\\n')\n",
    "plot = ut1.plot(kind='bar',title='Sexos',figsize=(6, 6),color=('b','g'))\n",
    "plt.ylabel('Freq.Relativa (em%)')\n",
    "plt.xlabel('Sexos')"
   ]
  },
  {
   "cell_type": "code",
   "execution_count": 60,
   "metadata": {
    "collapsed": false
   },
   "outputs": [
    {
     "data": {
      "image/png": "[encoded data removed]",
      "text/plain": [
       "<matplotlib.figure.Figure at 0x248bf2ac518>"
      ]
     },
     "metadata": {},
     "output_type": "display_data"
    }
   ],
   "source": [
    "plot = ut1.plot(kind='pie',title='Sexos',autopct='%.1f',figsize=(6, 6))"
   ]
  },
  {
   "cell_type": "code",
   "execution_count": 61,
   "metadata": {
    "collapsed": false
   },
   "outputs": [
    {
     "name": "stdout",
     "output_type": "stream",
     "text": [
      "Frequências relativas por raça\n",
      "Parda             48.0\n",
      "Branca            42.8\n",
      "Preta              8.3\n",
      "Indígena           0.5\n",
      "Amarela            0.4\n",
      "Sem Declaração     0.0\n",
      "dtype: float64 \n",
      "\n"
     ]
    },
    {
     "data": {
      "text/plain": [
       "<matplotlib.text.Text at 0x24889eb1d30>"
      ]
     },
     "execution_count": 61,
     "metadata": {},
     "output_type": "execute_result"
    },
    {
     "data": {
      "image/png": "[encoded data removed]",
      "text/plain": [
       "<matplotlib.figure.Figure at 0x248bf51cb00>"
      ]
     },
     "metadata": {},
     "output_type": "display_data"
    }
   ],
   "source": [
    "#TRABALHANDO COM A RAÇA\n",
    "dados.V0404.value_counts()\n",
    "dados.V0404 = dados.V0404.astype('category')\n",
    "dados.V0404.cat.categories = ('Indígena', 'Branca', 'Preta', 'Amarela', 'Parda', 'Sem Declaração')\n",
    "\n",
    "print('Frequências relativas por raça')\n",
    "ut2 = (dados.V0404.value_counts()/n*100).round(decimals=1)\n",
    "print(ut2,'\\n')\n",
    "plot = ut2.plot(kind='bar',title='Raças',figsize=(6, 6),color=('b','g', 'c', 'y', 'm'))\n",
    "plt.ylabel('Freq.Relativa (em%)')\n",
    "plt.xlabel('Raças')"
   ]
  },
  {
   "cell_type": "code",
   "execution_count": 62,
   "metadata": {
    "collapsed": false
   },
   "outputs": [
    {
     "data": {
      "image/png": "[encoded data removed]",
      "text/plain": [
       "<matplotlib.figure.Figure at 0x248804b1a58>"
      ]
     },
     "metadata": {},
     "output_type": "display_data"
    }
   ],
   "source": [
    "plot = ut2.plot(kind='pie',title='Raças',autopct='%.1f',figsize=(6, 6))"
   ]
  },
  {
   "cell_type": "code",
   "execution_count": 63,
   "metadata": {
    "collapsed": false
   },
   "outputs": [
    {
     "name": "stdout",
     "output_type": "stream",
     "text": [
      "Frequências relativas por rede de ensino\n",
      "Pública    21.5\n",
      "Privada     6.9\n",
      "dtype: float64 \n",
      "\n"
     ]
    },
    {
     "data": {
      "text/plain": [
       "<matplotlib.text.Text at 0x248bf5ee828>"
      ]
     },
     "execution_count": 63,
     "metadata": {},
     "output_type": "execute_result"
    },
    {
     "data": {
      "image/png": "[encoded data removed]",
      "text/plain": [
       "<matplotlib.figure.Figure at 0x2488cb53c50>"
      ]
     },
     "metadata": {},
     "output_type": "display_data"
    }
   ],
   "source": [
    "#TRABALHANDO COM A REDE DE ENSINO\n",
    "dados.V6002.value_counts()\n",
    "dados.V6002 = dados.V6002.astype('category')\n",
    "dados.V6002.cat.categories = ('Pública', 'Privada')\n",
    "\n",
    "print('Frequências relativas por rede de ensino')\n",
    "ut3 = (dados.V6002.value_counts()/n*100).round(decimals=1)\n",
    "print(ut3,'\\n')\n",
    "plot = ut3.plot(kind='bar',title='Rede de ensino',figsize=(6, 6),color=('b','g'))\n",
    "plt.ylabel('Freq.Relativa (em%)')\n",
    "plt.xlabel('Rede de ensino')"
   ]
  },
  {
   "cell_type": "code",
   "execution_count": null,
   "metadata": {
    "collapsed": false
   },
   "outputs": [],
   "source": []
  },
  {
   "cell_type": "code",
   "execution_count": 64,
   "metadata": {
    "collapsed": false
   },
   "outputs": [
    {
     "name": "stdout",
     "output_type": "stream",
     "text": [
      "Frequências relativas por rede de ensino\n",
      "2ª a 5ª séries do ensino fundamental regular em 9 anos                                       7.0\n",
      "6ª a 9ª séries do ensino fundamental regular em 9 anos                                       6.3\n",
      "Ensino médio, inclusive pré-vestibular                                                       4.8\n",
      "Superior, inclusive mestrado ou doutorado                                                    3.8\n",
      "Maternal, jardim de infância etc.                                                            1.7\n",
      "1ª série do ensino fundamental regular em 9 anos                                             1.6\n",
      "5ª a 8ª séries do ensino fundamental regular em 8 anos ou de educação de jovens e adultos    0.6\n",
      "1ª a 4ª séries do ensino fundamental regular em 8 anos ou de educação de jovens e adultos    0.3\n",
      "Classe de alfabetização                                                                      0.3\n",
      "Educação de jovens e adultos não seriado do ensino fundamental                               0.1\n",
      "Alfabetização de adultos                                                                     0.1\n",
      "dtype: float64 \n",
      "\n"
     ]
    },
    {
     "data": {
      "text/plain": [
       "<matplotlib.text.Text at 0x24889e73978>"
      ]
     },
     "execution_count": 64,
     "metadata": {},
     "output_type": "execute_result"
    },
    {
     "data": {
      "image/png": "[encoded data removed]",
      "text/plain": [
       "<matplotlib.figure.Figure at 0x24889e6a588>"
      ]
     },
     "metadata": {},
     "output_type": "display_data"
    }
   ],
   "source": [
    "#TRABALHANDO COM O NIVEL DE ESINO E GRUPOS DE SÉRIES DO ENSINO FUNDAMENTAL QUE FREQUENTAVAM \n",
    "dados.V4802.value_counts()\n",
    "dados.V4802 = dados.V4802.astype('category')\n",
    "dados.V4802.cat.categories = ('Maternal, jardim de infância etc.', 'Classe de alfabetização', \n",
    "                             'Alfabetização de adultos', '1ª a 4ª séries do ensino fundamental regular em 8 anos ou de educação de jovens e adultos',\n",
    "                            '5ª a 8ª séries do ensino fundamental regular em 8 anos ou de educação de jovens e adultos',\n",
    "                             '1ª série do ensino fundamental regular em 9 anos', '2ª a 5ª séries do ensino fundamental regular em 9 anos ',\n",
    "                             '6ª a 9ª séries do ensino fundamental regular em 9 anos', 'Educação de jovens e adultos não seriado do ensino fundamental',\n",
    "                             'Ensino médio, inclusive pré-vestibular', 'Superior, inclusive mestrado ou doutorado')\n",
    "\n",
    "print('Frequências relativas por rede de ensino')\n",
    "ut4 = (dados.V4802.value_counts()/n*100).round(decimals=1)\n",
    "print(ut4,'\\n')\n",
    "plot = ut4.plot(kind='bar',title='Nível de ensino e grupos de séries do ensino fundamental que frequentavam (todos os estudantes)',\n",
    "                figsize=(6, 6),color=('b','g', 'c', 'g', 'k', 'y', 'm'))\n",
    "plt.ylabel('Freq.Relativa (em%)')\n",
    "plt.xlabel('Nível de ensino e grupos de séries do ensino fundamental que frequentavam (todos os estudantes)')"
   ]
  },
  {
   "cell_type": "code",
   "execution_count": null,
   "metadata": {
    "collapsed": false
   },
   "outputs": [],
   "source": []
  },
  {
   "cell_type": "code",
   "execution_count": 65,
   "metadata": {
    "collapsed": false,
    "scrolled": false
   },
   "outputs": [
    {
     "name": "stderr",
     "output_type": "stream",
     "text": [
      "C:\\Users\\Matheus\\Anaconda3\\lib\\site-packages\\ipykernel\\__main__.py:2: SettingWithCopyWarning: \n",
      "A value is trying to be set on a copy of a slice from a DataFrame\n",
      "\n",
      "See the caveats in the documentation: http://pandas.pydata.org/pandas-docs/stable/indexing.html#indexing-view-versus-copy\n",
      "  from ipykernel import kernelapp as app\n",
      "C:\\Users\\Matheus\\Anaconda3\\lib\\site-packages\\ipykernel\\__main__.py:3: SettingWithCopyWarning: \n",
      "A value is trying to be set on a copy of a slice from a DataFrame\n",
      "\n",
      "See the caveats in the documentation: http://pandas.pydata.org/pandas-docs/stable/indexing.html#indexing-view-versus-copy\n",
      "  app.launch_new_instance()\n",
      "C:\\Users\\Matheus\\Anaconda3\\lib\\site-packages\\ipykernel\\__main__.py:4: SettingWithCopyWarning: \n",
      "A value is trying to be set on a copy of a slice from a DataFrame\n",
      "\n",
      "See the caveats in the documentation: http://pandas.pydata.org/pandas-docs/stable/indexing.html#indexing-view-versus-copy\n"
     ]
    },
    {
     "name": "stdout",
     "output_type": "stream",
     "text": [
      "Frequências relativas por região\n",
      "Sudeste         29.0\n",
      "Nordeste        28.8\n",
      "Norte           16.3\n",
      "Sul             15.5\n",
      "Centro-Oeste    10.4\n",
      "dtype: float64 \n",
      "\n"
     ]
    },
    {
     "name": "stderr",
     "output_type": "stream",
     "text": [
      "C:\\Users\\Matheus\\Anaconda3\\lib\\site-packages\\ipykernel\\__main__.py:5: SettingWithCopyWarning: \n",
      "A value is trying to be set on a copy of a slice from a DataFrame\n",
      "\n",
      "See the caveats in the documentation: http://pandas.pydata.org/pandas-docs/stable/indexing.html#indexing-view-versus-copy\n",
      "C:\\Users\\Matheus\\Anaconda3\\lib\\site-packages\\ipykernel\\__main__.py:6: SettingWithCopyWarning: \n",
      "A value is trying to be set on a copy of a slice from a DataFrame\n",
      "\n",
      "See the caveats in the documentation: http://pandas.pydata.org/pandas-docs/stable/indexing.html#indexing-view-versus-copy\n"
     ]
    },
    {
     "data": {
      "text/plain": [
       "<matplotlib.text.Text at 0x2488cb30630>"
      ]
     },
     "execution_count": 65,
     "metadata": {},
     "output_type": "execute_result"
    },
    {
     "data": {
      "image/png": "[encoded data removed]",
      "text/plain": [
       "<matplotlib.figure.Figure at 0x248e21a0080>"
      ]
     },
     "metadata": {},
     "output_type": "display_data"
    }
   ],
   "source": [
    "#TRABALHANDO COM A REGIÃO\n",
    "dados.regiao[(dados.UF >= 41) & (dados.UF < 44)] = 1\n",
    "dados.regiao[(dados.UF >= 31) & (dados.UF < 36)] = 2 \n",
    "dados.regiao[(dados.UF >= 50) & (dados.UF < 54)] = 3\n",
    "dados.regiao[(dados.UF >= 21) & (dados.UF < 30)] = 4\n",
    "dados.regiao[(dados.UF >= 11) & (dados.UF < 18)] = 5\n",
    "\n",
    "dados.regiao = dados.regiao.astype('category')\n",
    "dados.regiao.cat.categories = ('Sul', 'Sudeste', 'Centro-Oeste', 'Nordeste', 'Norte')\n",
    "dados.regiao.value_counts()\n",
    "\n",
    "print('Frequências relativas por região')\n",
    "ut5 = (dados.regiao.value_counts()/n*100).round(decimals=1)\n",
    "print(ut5,'\\n')\n",
    "plot = ut5.plot(kind='bar',title='Região',figsize=(6, 6),color=('b','g', 'c', 'k', 'y', 'm'))\n",
    "\n",
    "plt.ylabel('Freq.Relativa (em%)')\n",
    "plt.xlabel('Região')"
   ]
  },
  {
   "cell_type": "code",
   "execution_count": 66,
   "metadata": {
    "collapsed": false
   },
   "outputs": [
    {
     "data": {
      "image/png": "[encoded data removed]",
      "text/plain": [
       "<matplotlib.figure.Figure at 0x248bf62c588>"
      ]
     },
     "metadata": {},
     "output_type": "display_data"
    }
   ],
   "source": [
    "plot = ut5.plot(kind='pie',title='Região',autopct='%.1f',figsize=(6, 6))"
   ]
  },
  {
   "cell_type": "code",
   "execution_count": 67,
   "metadata": {
    "collapsed": false
   },
   "outputs": [
    {
     "name": "stdout",
     "output_type": "stream",
     "text": [
      "Frequências relativas por sexo:\n",
      "Sabe ler/escrever        84.2\n",
      "Não sabe ler/escrever    15.8\n",
      "dtype: float64 \n",
      "\n"
     ]
    },
    {
     "data": {
      "text/plain": [
       "<matplotlib.text.Text at 0x2488a943898>"
      ]
     },
     "execution_count": 67,
     "metadata": {},
     "output_type": "execute_result"
    },
    {
     "data": {
      "image/png": "[encoded data removed]",
      "text/plain": [
       "<matplotlib.figure.Figure at 0x248804c0358>"
      ]
     },
     "metadata": {},
     "output_type": "display_data"
    }
   ],
   "source": [
    "#TRABALHANDO COM A LEITURA/ESCRITA\n",
    "dados.V0601 = dados.V0601.astype('category')\n",
    "dados.V0601.cat.categories = ('Sabe ler/escrever', 'Não sabe ler/escrever')\n",
    "\n",
    "print('Frequências relativas por sexo:')\n",
    "ut6 = (dados.V0601.value_counts()/n*100).round(decimals=1)\n",
    "print(ut6,'\\n')\n",
    "plot = ut6.plot(kind='bar',title='Sabe ler e escrever',figsize=(6, 6),color=('b','g'))\n",
    "plt.ylabel('Freq.Relativa (em%)')\n",
    "plt.xlabel('Sabe/ Não sabe ler e escrever')"
   ]
  },
  {
   "cell_type": "code",
   "execution_count": 68,
   "metadata": {
    "collapsed": false
   },
   "outputs": [
    {
     "data": {
      "image/png": "[encoded data removed]",
      "text/plain": [
       "<matplotlib.figure.Figure at 0x248bf2a9390>"
      ]
     },
     "metadata": {},
     "output_type": "display_data"
    }
   ],
   "source": [
    "plot = ut6.plot(kind='pie',title='Sabe ler/ escrever',autopct='%.1f',figsize=(6, 6))"
   ]
  },
  {
   "cell_type": "code",
   "execution_count": 69,
   "metadata": {
    "collapsed": false
   },
   "outputs": [
    {
     "name": "stdout",
     "output_type": "stream",
     "text": [
      "Frequências relativas por curso que frequenta:\n",
      "Regular do ensino fundamental                                      15.5\n",
      "Regular do ensino médio                                             4.5\n",
      "Superior de graduação                                               3.6\n",
      "Creche                                                              1.8\n",
      "Maternal, jardim de infância etc.                                   1.7\n",
      "Educação de jovens e adultos ou supletivo do ensino fundamental     0.4\n",
      "Classe de alfabetização - CA                                        0.3\n",
      "Educação de jovens e adultos ou supletivo do ensino médio           0.3\n",
      "Mestrado ou doutorado                                               0.2\n",
      "Alfabetização de jovens e adultos                                   0.1\n",
      "Pré-vestibular                                                      0.1\n",
      "dtype: float64 \n",
      "\n"
     ]
    },
    {
     "data": {
      "text/plain": [
       "<matplotlib.text.Text at 0x248bdc937f0>"
      ]
     },
     "execution_count": 69,
     "metadata": {},
     "output_type": "execute_result"
    },
    {
     "data": {
      "image/png": "[encoded data removed]",
      "text/plain": [
       "<matplotlib.figure.Figure at 0x248bf6086d8>"
      ]
     },
     "metadata": {},
     "output_type": "display_data"
    }
   ],
   "source": [
    "#TRABALHANDO COM OS CURSOS FREQUENTADOS\n",
    "dados.V6003 = dados.V6003.astype('category')\n",
    "dados.V6003.cat.categories = ('Regular do ensino fundamental', 'Regular do ensino médio', 'Educação de jovens e adultos ou supletivo do ensino fundamental',\n",
    "                              'Educação de jovens e adultos ou supletivo do ensino médio', 'Superior de graduação', 'Alfabetização de jovens e adultos',\n",
    "                              'Creche', 'Classe de alfabetização - CA', 'Maternal, jardim de infância etc.',\n",
    "                              'Pré-vestibular', 'Mestrado ou doutorado')\n",
    "\n",
    "print('Frequências relativas por curso que frequenta:')\n",
    "ut7 = (dados.V6003.value_counts()/n*100).round(decimals=1)\n",
    "print(ut7,'\\n')\n",
    "plot = ut7.plot(kind='bar',title='Curso que frequnta',figsize=(6, 6),color=(('b','g', 'c', 'k', 'y', 'm')))\n",
    "plt.ylabel('Freq.Relativa (em%)')\n",
    "plt.xlabel('Curso que frequenta')"
   ]
  },
  {
   "cell_type": "code",
   "execution_count": null,
   "metadata": {
    "collapsed": false
   },
   "outputs": [],
   "source": []
  },
  {
   "cell_type": "code",
   "execution_count": 152,
   "metadata": {
    "collapsed": false
   },
   "outputs": [
    {
     "data": {
      "text/plain": [
       "\"print (ct1)\\nct1 = ct1.loc[['Sul','Sudeste','Centro-Oeste','Nordeste', 'Norte', 'All'], :]\\nct1 = (ct1/len(dados)*100).round(decimals=0)\\n#ct1 = ct1.iloc[0:5,]\\nprint (ct1)\\nplot = ct1.plot(kind='bar')\\nplt.ylabel('Freq.Relativa (em%)')\""
      ]
     },
     "execution_count": 152,
     "metadata": {},
     "output_type": "execute_result"
    }
   ],
   "source": [
    "ct1 = pd.crosstab(dados.UF,dados.V4802,margins=True,rownames=['REGIÃO'], colnames=['NIVEL DE ENSINO'])\n",
    "\"\"\"print (ct1)\n",
    "ct1 = ct1.loc[['Sul','Sudeste','Centro-Oeste','Nordeste', 'Norte', 'All'], :]\n",
    "ct1 = (ct1/len(dados)*100).round(decimals=0)\n",
    "#ct1 = ct1.iloc[0:5,]\n",
    "print (ct1)\n",
    "plot = ct1.plot(kind='bar')\n",
    "plt.ylabel('Freq.Relativa (em%)')\"\"\""
   ]
  },
  {
   "cell_type": "code",
   "execution_count": 153,
   "metadata": {
    "collapsed": false
   },
   "outputs": [
    {
     "data": {
      "text/html": [
       "<div>\n",
       "<table border=\"1\" class=\"dataframe\">\n",
       "  <thead>\n",
       "    <tr style=\"text-align: right;\">\n",
       "      <th>NIVEL DE ENSINO</th>\n",
       "      <th>Maternal, jardim de infância etc.</th>\n",
       "      <th>Classe de alfabetização</th>\n",
       "      <th>Alfabetização de adultos</th>\n",
       "      <th>1ª a 4ª séries do ensino fundamental regular em 8 anos ou de educação de jovens e adultos</th>\n",
       "      <th>5ª a 8ª séries do ensino fundamental regular em 8 anos ou de educação de jovens e adultos</th>\n",
       "      <th>1ª série do ensino fundamental regular em 9 anos</th>\n",
       "      <th>2ª a 5ª séries do ensino fundamental regular em 9 anos</th>\n",
       "      <th>6ª a 9ª séries do ensino fundamental regular em 9 anos</th>\n",
       "      <th>Educação de jovens e adultos não seriado do ensino fundamental</th>\n",
       "      <th>Ensino médio, inclusive pré-vestibular</th>\n",
       "      <th>Superior, inclusive mestrado ou doutorado</th>\n",
       "      <th>All</th>\n",
       "    </tr>\n",
       "    <tr>\n",
       "      <th>REGIÃO</th>\n",
       "      <th></th>\n",
       "      <th></th>\n",
       "      <th></th>\n",
       "      <th></th>\n",
       "      <th></th>\n",
       "      <th></th>\n",
       "      <th></th>\n",
       "      <th></th>\n",
       "      <th></th>\n",
       "      <th></th>\n",
       "      <th></th>\n",
       "      <th></th>\n",
       "    </tr>\n",
       "  </thead>\n",
       "  <tbody>\n",
       "    <tr>\n",
       "      <th>11</th>\n",
       "      <td>101</td>\n",
       "      <td>19</td>\n",
       "      <td>5</td>\n",
       "      <td>30</td>\n",
       "      <td>40</td>\n",
       "      <td>115</td>\n",
       "      <td>561</td>\n",
       "      <td>522</td>\n",
       "      <td>17</td>\n",
       "      <td>373</td>\n",
       "      <td>229</td>\n",
       "      <td>7120</td>\n",
       "    </tr>\n",
       "    <tr>\n",
       "      <th>12</th>\n",
       "      <td>84</td>\n",
       "      <td>26</td>\n",
       "      <td>11</td>\n",
       "      <td>24</td>\n",
       "      <td>17</td>\n",
       "      <td>106</td>\n",
       "      <td>488</td>\n",
       "      <td>332</td>\n",
       "      <td>46</td>\n",
       "      <td>241</td>\n",
       "      <td>168</td>\n",
       "      <td>4475</td>\n",
       "    </tr>\n",
       "    <tr>\n",
       "      <th>13</th>\n",
       "      <td>271</td>\n",
       "      <td>80</td>\n",
       "      <td>11</td>\n",
       "      <td>47</td>\n",
       "      <td>73</td>\n",
       "      <td>288</td>\n",
       "      <td>1303</td>\n",
       "      <td>1082</td>\n",
       "      <td>25</td>\n",
       "      <td>738</td>\n",
       "      <td>561</td>\n",
       "      <td>13023</td>\n",
       "    </tr>\n",
       "    <tr>\n",
       "      <th>14</th>\n",
       "      <td>47</td>\n",
       "      <td>16</td>\n",
       "      <td>2</td>\n",
       "      <td>12</td>\n",
       "      <td>22</td>\n",
       "      <td>71</td>\n",
       "      <td>231</td>\n",
       "      <td>167</td>\n",
       "      <td>3</td>\n",
       "      <td>150</td>\n",
       "      <td>134</td>\n",
       "      <td>2767</td>\n",
       "    </tr>\n",
       "    <tr>\n",
       "      <th>15</th>\n",
       "      <td>501</td>\n",
       "      <td>51</td>\n",
       "      <td>12</td>\n",
       "      <td>151</td>\n",
       "      <td>243</td>\n",
       "      <td>380</td>\n",
       "      <td>2071</td>\n",
       "      <td>1589</td>\n",
       "      <td>40</td>\n",
       "      <td>1245</td>\n",
       "      <td>614</td>\n",
       "      <td>22455</td>\n",
       "    </tr>\n",
       "    <tr>\n",
       "      <th>16</th>\n",
       "      <td>48</td>\n",
       "      <td>13</td>\n",
       "      <td>6</td>\n",
       "      <td>22</td>\n",
       "      <td>45</td>\n",
       "      <td>78</td>\n",
       "      <td>301</td>\n",
       "      <td>164</td>\n",
       "      <td>1</td>\n",
       "      <td>169</td>\n",
       "      <td>155</td>\n",
       "      <td>2890</td>\n",
       "    </tr>\n",
       "    <tr>\n",
       "      <th>17</th>\n",
       "      <td>93</td>\n",
       "      <td>33</td>\n",
       "      <td>2</td>\n",
       "      <td>13</td>\n",
       "      <td>20</td>\n",
       "      <td>108</td>\n",
       "      <td>526</td>\n",
       "      <td>540</td>\n",
       "      <td>1</td>\n",
       "      <td>400</td>\n",
       "      <td>229</td>\n",
       "      <td>6457</td>\n",
       "    </tr>\n",
       "    <tr>\n",
       "      <th>21</th>\n",
       "      <td>264</td>\n",
       "      <td>22</td>\n",
       "      <td>33</td>\n",
       "      <td>29</td>\n",
       "      <td>43</td>\n",
       "      <td>174</td>\n",
       "      <td>917</td>\n",
       "      <td>780</td>\n",
       "      <td>11</td>\n",
       "      <td>553</td>\n",
       "      <td>203</td>\n",
       "      <td>9270</td>\n",
       "    </tr>\n",
       "    <tr>\n",
       "      <th>22</th>\n",
       "      <td>125</td>\n",
       "      <td>8</td>\n",
       "      <td>18</td>\n",
       "      <td>14</td>\n",
       "      <td>24</td>\n",
       "      <td>108</td>\n",
       "      <td>496</td>\n",
       "      <td>426</td>\n",
       "      <td>2</td>\n",
       "      <td>279</td>\n",
       "      <td>189</td>\n",
       "      <td>5592</td>\n",
       "    </tr>\n",
       "    <tr>\n",
       "      <th>23</th>\n",
       "      <td>414</td>\n",
       "      <td>34</td>\n",
       "      <td>37</td>\n",
       "      <td>36</td>\n",
       "      <td>37</td>\n",
       "      <td>280</td>\n",
       "      <td>1329</td>\n",
       "      <td>1443</td>\n",
       "      <td>36</td>\n",
       "      <td>949</td>\n",
       "      <td>668</td>\n",
       "      <td>19122</td>\n",
       "    </tr>\n",
       "    <tr>\n",
       "      <th>24</th>\n",
       "      <td>95</td>\n",
       "      <td>14</td>\n",
       "      <td>19</td>\n",
       "      <td>16</td>\n",
       "      <td>13</td>\n",
       "      <td>75</td>\n",
       "      <td>378</td>\n",
       "      <td>330</td>\n",
       "      <td>12</td>\n",
       "      <td>216</td>\n",
       "      <td>185</td>\n",
       "      <td>5068</td>\n",
       "    </tr>\n",
       "    <tr>\n",
       "      <th>25</th>\n",
       "      <td>143</td>\n",
       "      <td>15</td>\n",
       "      <td>16</td>\n",
       "      <td>30</td>\n",
       "      <td>18</td>\n",
       "      <td>110</td>\n",
       "      <td>439</td>\n",
       "      <td>436</td>\n",
       "      <td>5</td>\n",
       "      <td>258</td>\n",
       "      <td>261</td>\n",
       "      <td>6187</td>\n",
       "    </tr>\n",
       "    <tr>\n",
       "      <th>26</th>\n",
       "      <td>340</td>\n",
       "      <td>79</td>\n",
       "      <td>25</td>\n",
       "      <td>90</td>\n",
       "      <td>100</td>\n",
       "      <td>304</td>\n",
       "      <td>1358</td>\n",
       "      <td>1263</td>\n",
       "      <td>45</td>\n",
       "      <td>997</td>\n",
       "      <td>718</td>\n",
       "      <td>20561</td>\n",
       "    </tr>\n",
       "    <tr>\n",
       "      <th>27</th>\n",
       "      <td>115</td>\n",
       "      <td>19</td>\n",
       "      <td>9</td>\n",
       "      <td>17</td>\n",
       "      <td>15</td>\n",
       "      <td>103</td>\n",
       "      <td>483</td>\n",
       "      <td>448</td>\n",
       "      <td>15</td>\n",
       "      <td>226</td>\n",
       "      <td>171</td>\n",
       "      <td>5461</td>\n",
       "    </tr>\n",
       "    <tr>\n",
       "      <th>28</th>\n",
       "      <td>149</td>\n",
       "      <td>39</td>\n",
       "      <td>8</td>\n",
       "      <td>17</td>\n",
       "      <td>21</td>\n",
       "      <td>110</td>\n",
       "      <td>499</td>\n",
       "      <td>428</td>\n",
       "      <td>21</td>\n",
       "      <td>283</td>\n",
       "      <td>230</td>\n",
       "      <td>6089</td>\n",
       "    </tr>\n",
       "    <tr>\n",
       "      <th>29</th>\n",
       "      <td>537</td>\n",
       "      <td>141</td>\n",
       "      <td>62</td>\n",
       "      <td>118</td>\n",
       "      <td>183</td>\n",
       "      <td>423</td>\n",
       "      <td>2157</td>\n",
       "      <td>1885</td>\n",
       "      <td>34</td>\n",
       "      <td>1296</td>\n",
       "      <td>813</td>\n",
       "      <td>27247</td>\n",
       "    </tr>\n",
       "    <tr>\n",
       "      <th>31</th>\n",
       "      <td>546</td>\n",
       "      <td>29</td>\n",
       "      <td>44</td>\n",
       "      <td>29</td>\n",
       "      <td>58</td>\n",
       "      <td>487</td>\n",
       "      <td>2022</td>\n",
       "      <td>2175</td>\n",
       "      <td>31</td>\n",
       "      <td>1597</td>\n",
       "      <td>1218</td>\n",
       "      <td>33137</td>\n",
       "    </tr>\n",
       "    <tr>\n",
       "      <th>32</th>\n",
       "      <td>101</td>\n",
       "      <td>23</td>\n",
       "      <td>4</td>\n",
       "      <td>29</td>\n",
       "      <td>51</td>\n",
       "      <td>115</td>\n",
       "      <td>437</td>\n",
       "      <td>355</td>\n",
       "      <td>0</td>\n",
       "      <td>275</td>\n",
       "      <td>259</td>\n",
       "      <td>6737</td>\n",
       "    </tr>\n",
       "    <tr>\n",
       "      <th>33</th>\n",
       "      <td>395</td>\n",
       "      <td>167</td>\n",
       "      <td>19</td>\n",
       "      <td>41</td>\n",
       "      <td>70</td>\n",
       "      <td>359</td>\n",
       "      <td>1547</td>\n",
       "      <td>1506</td>\n",
       "      <td>16</td>\n",
       "      <td>1108</td>\n",
       "      <td>842</td>\n",
       "      <td>25723</td>\n",
       "    </tr>\n",
       "    <tr>\n",
       "      <th>35</th>\n",
       "      <td>614</td>\n",
       "      <td>63</td>\n",
       "      <td>15</td>\n",
       "      <td>88</td>\n",
       "      <td>246</td>\n",
       "      <td>568</td>\n",
       "      <td>2139</td>\n",
       "      <td>2098</td>\n",
       "      <td>9</td>\n",
       "      <td>1801</td>\n",
       "      <td>1488</td>\n",
       "      <td>39531</td>\n",
       "    </tr>\n",
       "    <tr>\n",
       "      <th>41</th>\n",
       "      <td>230</td>\n",
       "      <td>29</td>\n",
       "      <td>23</td>\n",
       "      <td>53</td>\n",
       "      <td>89</td>\n",
       "      <td>249</td>\n",
       "      <td>1147</td>\n",
       "      <td>1054</td>\n",
       "      <td>39</td>\n",
       "      <td>869</td>\n",
       "      <td>794</td>\n",
       "      <td>19045</td>\n",
       "    </tr>\n",
       "    <tr>\n",
       "      <th>42</th>\n",
       "      <td>141</td>\n",
       "      <td>11</td>\n",
       "      <td>7</td>\n",
       "      <td>27</td>\n",
       "      <td>126</td>\n",
       "      <td>145</td>\n",
       "      <td>525</td>\n",
       "      <td>438</td>\n",
       "      <td>11</td>\n",
       "      <td>438</td>\n",
       "      <td>484</td>\n",
       "      <td>9882</td>\n",
       "    </tr>\n",
       "    <tr>\n",
       "      <th>43</th>\n",
       "      <td>323</td>\n",
       "      <td>28</td>\n",
       "      <td>21</td>\n",
       "      <td>87</td>\n",
       "      <td>508</td>\n",
       "      <td>343</td>\n",
       "      <td>1590</td>\n",
       "      <td>1123</td>\n",
       "      <td>17</td>\n",
       "      <td>1125</td>\n",
       "      <td>1122</td>\n",
       "      <td>27189</td>\n",
       "    </tr>\n",
       "    <tr>\n",
       "      <th>50</th>\n",
       "      <td>88</td>\n",
       "      <td>24</td>\n",
       "      <td>5</td>\n",
       "      <td>7</td>\n",
       "      <td>15</td>\n",
       "      <td>118</td>\n",
       "      <td>404</td>\n",
       "      <td>394</td>\n",
       "      <td>8</td>\n",
       "      <td>247</td>\n",
       "      <td>292</td>\n",
       "      <td>6327</td>\n",
       "    </tr>\n",
       "    <tr>\n",
       "      <th>51</th>\n",
       "      <td>109</td>\n",
       "      <td>33</td>\n",
       "      <td>7</td>\n",
       "      <td>18</td>\n",
       "      <td>31</td>\n",
       "      <td>128</td>\n",
       "      <td>435</td>\n",
       "      <td>426</td>\n",
       "      <td>8</td>\n",
       "      <td>413</td>\n",
       "      <td>320</td>\n",
       "      <td>7148</td>\n",
       "    </tr>\n",
       "    <tr>\n",
       "      <th>52</th>\n",
       "      <td>247</td>\n",
       "      <td>35</td>\n",
       "      <td>8</td>\n",
       "      <td>18</td>\n",
       "      <td>13</td>\n",
       "      <td>213</td>\n",
       "      <td>998</td>\n",
       "      <td>934</td>\n",
       "      <td>14</td>\n",
       "      <td>715</td>\n",
       "      <td>623</td>\n",
       "      <td>14691</td>\n",
       "    </tr>\n",
       "    <tr>\n",
       "      <th>53</th>\n",
       "      <td>172</td>\n",
       "      <td>22</td>\n",
       "      <td>6</td>\n",
       "      <td>29</td>\n",
       "      <td>41</td>\n",
       "      <td>127</td>\n",
       "      <td>616</td>\n",
       "      <td>634</td>\n",
       "      <td>6</td>\n",
       "      <td>442</td>\n",
       "      <td>674</td>\n",
       "      <td>9361</td>\n",
       "    </tr>\n",
       "    <tr>\n",
       "      <th>All</th>\n",
       "      <td>6293</td>\n",
       "      <td>1073</td>\n",
       "      <td>435</td>\n",
       "      <td>1092</td>\n",
       "      <td>2162</td>\n",
       "      <td>5685</td>\n",
       "      <td>25397</td>\n",
       "      <td>22972</td>\n",
       "      <td>473</td>\n",
       "      <td>17403</td>\n",
       "      <td>13644</td>\n",
       "      <td>362555</td>\n",
       "    </tr>\n",
       "  </tbody>\n",
       "</table>\n",
       "</div>"
      ],
      "text/plain": [
       "NIVEL DE ENSINO  Maternal, jardim de infância etc.  Classe de alfabetização  \\\n",
       "REGIÃO                                                                        \n",
       "11                                             101                       19   \n",
       "12                                              84                       26   \n",
       "13                                             271                       80   \n",
       "14                                              47                       16   \n",
       "15                                             501                       51   \n",
       "16                                              48                       13   \n",
       "17                                              93                       33   \n",
       "21                                             264                       22   \n",
       "22                                             125                        8   \n",
       "23                                             414                       34   \n",
       "24                                              95                       14   \n",
       "25                                             143                       15   \n",
       "26                                             340                       79   \n",
       "27                                             115                       19   \n",
       "28                                             149                       39   \n",
       "29                                             537                      141   \n",
       "31                                             546                       29   \n",
       "32                                             101                       23   \n",
       "33                                             395                      167   \n",
       "35                                             614                       63   \n",
       "41                                             230                       29   \n",
       "42                                             141                       11   \n",
       "43                                             323                       28   \n",
       "50                                              88                       24   \n",
       "51                                             109                       33   \n",
       "52                                             247                       35   \n",
       "53                                             172                       22   \n",
       "All                                           6293                     1073   \n",
       "\n",
       "NIVEL DE ENSINO  Alfabetização de adultos  \\\n",
       "REGIÃO                                      \n",
       "11                                      5   \n",
       "12                                     11   \n",
       "13                                     11   \n",
       "14                                      2   \n",
       "15                                     12   \n",
       "16                                      6   \n",
       "17                                      2   \n",
       "21                                     33   \n",
       "22                                     18   \n",
       "23                                     37   \n",
       "24                                     19   \n",
       "25                                     16   \n",
       "26                                     25   \n",
       "27                                      9   \n",
       "28                                      8   \n",
       "29                                     62   \n",
       "31                                     44   \n",
       "32                                      4   \n",
       "33                                     19   \n",
       "35                                     15   \n",
       "41                                     23   \n",
       "42                                      7   \n",
       "43                                     21   \n",
       "50                                      5   \n",
       "51                                      7   \n",
       "52                                      8   \n",
       "53                                      6   \n",
       "All                                   435   \n",
       "\n",
       "NIVEL DE ENSINO  1ª a 4ª séries do ensino fundamental regular em 8 anos ou de educação de jovens e adultos  \\\n",
       "REGIÃO                                                                                                       \n",
       "11                                                              30                                           \n",
       "12                                                              24                                           \n",
       "13                                                              47                                           \n",
       "14                                                              12                                           \n",
       "15                                                             151                                           \n",
       "16                                                              22                                           \n",
       "17                                                              13                                           \n",
       "21                                                              29                                           \n",
       "22                                                              14                                           \n",
       "23                                                              36                                           \n",
       "24                                                              16                                           \n",
       "25                                                              30                                           \n",
       "26                                                              90                                           \n",
       "27                                                              17                                           \n",
       "28                                                              17                                           \n",
       "29                                                             118                                           \n",
       "31                                                              29                                           \n",
       "32                                                              29                                           \n",
       "33                                                              41                                           \n",
       "35                                                              88                                           \n",
       "41                                                              53                                           \n",
       "42                                                              27                                           \n",
       "43                                                              87                                           \n",
       "50                                                               7                                           \n",
       "51                                                              18                                           \n",
       "52                                                              18                                           \n",
       "53                                                              29                                           \n",
       "All                                                           1092                                           \n",
       "\n",
       "NIVEL DE ENSINO  5ª a 8ª séries do ensino fundamental regular em 8 anos ou de educação de jovens e adultos  \\\n",
       "REGIÃO                                                                                                       \n",
       "11                                                              40                                           \n",
       "12                                                              17                                           \n",
       "13                                                              73                                           \n",
       "14                                                              22                                           \n",
       "15                                                             243                                           \n",
       "16                                                              45                                           \n",
       "17                                                              20                                           \n",
       "21                                                              43                                           \n",
       "22                                                              24                                           \n",
       "23                                                              37                                           \n",
       "24                                                              13                                           \n",
       "25                                                              18                                           \n",
       "26                                                             100                                           \n",
       "27                                                              15                                           \n",
       "28                                                              21                                           \n",
       "29                                                             183                                           \n",
       "31                                                              58                                           \n",
       "32                                                              51                                           \n",
       "33                                                              70                                           \n",
       "35                                                             246                                           \n",
       "41                                                              89                                           \n",
       "42                                                             126                                           \n",
       "43                                                             508                                           \n",
       "50                                                              15                                           \n",
       "51                                                              31                                           \n",
       "52                                                              13                                           \n",
       "53                                                              41                                           \n",
       "All                                                           2162                                           \n",
       "\n",
       "NIVEL DE ENSINO  1ª série do ensino fundamental regular em 9 anos  \\\n",
       "REGIÃO                                                              \n",
       "11                                                            115   \n",
       "12                                                            106   \n",
       "13                                                            288   \n",
       "14                                                             71   \n",
       "15                                                            380   \n",
       "16                                                             78   \n",
       "17                                                            108   \n",
       "21                                                            174   \n",
       "22                                                            108   \n",
       "23                                                            280   \n",
       "24                                                             75   \n",
       "25                                                            110   \n",
       "26                                                            304   \n",
       "27                                                            103   \n",
       "28                                                            110   \n",
       "29                                                            423   \n",
       "31                                                            487   \n",
       "32                                                            115   \n",
       "33                                                            359   \n",
       "35                                                            568   \n",
       "41                                                            249   \n",
       "42                                                            145   \n",
       "43                                                            343   \n",
       "50                                                            118   \n",
       "51                                                            128   \n",
       "52                                                            213   \n",
       "53                                                            127   \n",
       "All                                                          5685   \n",
       "\n",
       "NIVEL DE ENSINO  2ª a 5ª séries do ensino fundamental regular em 9 anos   \\\n",
       "REGIÃO                                                                     \n",
       "11                                                             561         \n",
       "12                                                             488         \n",
       "13                                                            1303         \n",
       "14                                                             231         \n",
       "15                                                            2071         \n",
       "16                                                             301         \n",
       "17                                                             526         \n",
       "21                                                             917         \n",
       "22                                                             496         \n",
       "23                                                            1329         \n",
       "24                                                             378         \n",
       "25                                                             439         \n",
       "26                                                            1358         \n",
       "27                                                             483         \n",
       "28                                                             499         \n",
       "29                                                            2157         \n",
       "31                                                            2022         \n",
       "32                                                             437         \n",
       "33                                                            1547         \n",
       "35                                                            2139         \n",
       "41                                                            1147         \n",
       "42                                                             525         \n",
       "43                                                            1590         \n",
       "50                                                             404         \n",
       "51                                                             435         \n",
       "52                                                             998         \n",
       "53                                                             616         \n",
       "All                                                          25397         \n",
       "\n",
       "NIVEL DE ENSINO  6ª a 9ª séries do ensino fundamental regular em 9 anos  \\\n",
       "REGIÃO                                                                    \n",
       "11                                                             522        \n",
       "12                                                             332        \n",
       "13                                                            1082        \n",
       "14                                                             167        \n",
       "15                                                            1589        \n",
       "16                                                             164        \n",
       "17                                                             540        \n",
       "21                                                             780        \n",
       "22                                                             426        \n",
       "23                                                            1443        \n",
       "24                                                             330        \n",
       "25                                                             436        \n",
       "26                                                            1263        \n",
       "27                                                             448        \n",
       "28                                                             428        \n",
       "29                                                            1885        \n",
       "31                                                            2175        \n",
       "32                                                             355        \n",
       "33                                                            1506        \n",
       "35                                                            2098        \n",
       "41                                                            1054        \n",
       "42                                                             438        \n",
       "43                                                            1123        \n",
       "50                                                             394        \n",
       "51                                                             426        \n",
       "52                                                             934        \n",
       "53                                                             634        \n",
       "All                                                          22972        \n",
       "\n",
       "NIVEL DE ENSINO  Educação de jovens e adultos não seriado do ensino fundamental  \\\n",
       "REGIÃO                                                                            \n",
       "11                                                              17                \n",
       "12                                                              46                \n",
       "13                                                              25                \n",
       "14                                                               3                \n",
       "15                                                              40                \n",
       "16                                                               1                \n",
       "17                                                               1                \n",
       "21                                                              11                \n",
       "22                                                               2                \n",
       "23                                                              36                \n",
       "24                                                              12                \n",
       "25                                                               5                \n",
       "26                                                              45                \n",
       "27                                                              15                \n",
       "28                                                              21                \n",
       "29                                                              34                \n",
       "31                                                              31                \n",
       "32                                                               0                \n",
       "33                                                              16                \n",
       "35                                                               9                \n",
       "41                                                              39                \n",
       "42                                                              11                \n",
       "43                                                              17                \n",
       "50                                                               8                \n",
       "51                                                               8                \n",
       "52                                                              14                \n",
       "53                                                               6                \n",
       "All                                                            473                \n",
       "\n",
       "NIVEL DE ENSINO  Ensino médio, inclusive pré-vestibular  \\\n",
       "REGIÃO                                                    \n",
       "11                                                  373   \n",
       "12                                                  241   \n",
       "13                                                  738   \n",
       "14                                                  150   \n",
       "15                                                 1245   \n",
       "16                                                  169   \n",
       "17                                                  400   \n",
       "21                                                  553   \n",
       "22                                                  279   \n",
       "23                                                  949   \n",
       "24                                                  216   \n",
       "25                                                  258   \n",
       "26                                                  997   \n",
       "27                                                  226   \n",
       "28                                                  283   \n",
       "29                                                 1296   \n",
       "31                                                 1597   \n",
       "32                                                  275   \n",
       "33                                                 1108   \n",
       "35                                                 1801   \n",
       "41                                                  869   \n",
       "42                                                  438   \n",
       "43                                                 1125   \n",
       "50                                                  247   \n",
       "51                                                  413   \n",
       "52                                                  715   \n",
       "53                                                  442   \n",
       "All                                               17403   \n",
       "\n",
       "NIVEL DE ENSINO  Superior, inclusive mestrado ou doutorado     All  \n",
       "REGIÃO                                                              \n",
       "11                                                     229    7120  \n",
       "12                                                     168    4475  \n",
       "13                                                     561   13023  \n",
       "14                                                     134    2767  \n",
       "15                                                     614   22455  \n",
       "16                                                     155    2890  \n",
       "17                                                     229    6457  \n",
       "21                                                     203    9270  \n",
       "22                                                     189    5592  \n",
       "23                                                     668   19122  \n",
       "24                                                     185    5068  \n",
       "25                                                     261    6187  \n",
       "26                                                     718   20561  \n",
       "27                                                     171    5461  \n",
       "28                                                     230    6089  \n",
       "29                                                     813   27247  \n",
       "31                                                    1218   33137  \n",
       "32                                                     259    6737  \n",
       "33                                                     842   25723  \n",
       "35                                                    1488   39531  \n",
       "41                                                     794   19045  \n",
       "42                                                     484    9882  \n",
       "43                                                    1122   27189  \n",
       "50                                                     292    6327  \n",
       "51                                                     320    7148  \n",
       "52                                                     623   14691  \n",
       "53                                                     674    9361  \n",
       "All                                                  13644  362555  "
      ]
     },
     "execution_count": 153,
     "metadata": {},
     "output_type": "execute_result"
    }
   ],
   "source": [
    "ct1"
   ]
  },
  {
   "cell_type": "code",
   "execution_count": 154,
   "metadata": {
    "collapsed": true
   },
   "outputs": [],
   "source": [
    "ct2 = pd.crosstab(dados.UF,dados.V6002,margins=True,rownames=['REGIÃO'], colnames=['REDE DE ENSINO'])"
   ]
  },
  {
   "cell_type": "code",
   "execution_count": 155,
   "metadata": {
    "collapsed": false,
    "scrolled": true
   },
   "outputs": [
    {
     "data": {
      "text/html": [
       "<div>\n",
       "<table border=\"1\" class=\"dataframe\">\n",
       "  <thead>\n",
       "    <tr style=\"text-align: right;\">\n",
       "      <th>REDE DE ENSINO</th>\n",
       "      <th>Pública</th>\n",
       "      <th>Privada</th>\n",
       "      <th>All</th>\n",
       "    </tr>\n",
       "    <tr>\n",
       "      <th>REGIÃO</th>\n",
       "      <th></th>\n",
       "      <th></th>\n",
       "      <th></th>\n",
       "    </tr>\n",
       "  </thead>\n",
       "  <tbody>\n",
       "    <tr>\n",
       "      <th>11</th>\n",
       "      <td>1785</td>\n",
       "      <td>294</td>\n",
       "      <td>7120</td>\n",
       "    </tr>\n",
       "    <tr>\n",
       "      <th>12</th>\n",
       "      <td>1446</td>\n",
       "      <td>153</td>\n",
       "      <td>4475</td>\n",
       "    </tr>\n",
       "    <tr>\n",
       "      <th>13</th>\n",
       "      <td>3764</td>\n",
       "      <td>838</td>\n",
       "      <td>13023</td>\n",
       "    </tr>\n",
       "    <tr>\n",
       "      <th>14</th>\n",
       "      <td>769</td>\n",
       "      <td>134</td>\n",
       "      <td>2767</td>\n",
       "    </tr>\n",
       "    <tr>\n",
       "      <th>15</th>\n",
       "      <td>5947</td>\n",
       "      <td>1246</td>\n",
       "      <td>22455</td>\n",
       "    </tr>\n",
       "    <tr>\n",
       "      <th>16</th>\n",
       "      <td>844</td>\n",
       "      <td>193</td>\n",
       "      <td>2890</td>\n",
       "    </tr>\n",
       "    <tr>\n",
       "      <th>17</th>\n",
       "      <td>1750</td>\n",
       "      <td>297</td>\n",
       "      <td>6457</td>\n",
       "    </tr>\n",
       "    <tr>\n",
       "      <th>21</th>\n",
       "      <td>2828</td>\n",
       "      <td>391</td>\n",
       "      <td>9270</td>\n",
       "    </tr>\n",
       "    <tr>\n",
       "      <th>22</th>\n",
       "      <td>1499</td>\n",
       "      <td>310</td>\n",
       "      <td>5592</td>\n",
       "    </tr>\n",
       "    <tr>\n",
       "      <th>23</th>\n",
       "      <td>4143</td>\n",
       "      <td>1476</td>\n",
       "      <td>19122</td>\n",
       "    </tr>\n",
       "    <tr>\n",
       "      <th>24</th>\n",
       "      <td>1123</td>\n",
       "      <td>346</td>\n",
       "      <td>5068</td>\n",
       "    </tr>\n",
       "    <tr>\n",
       "      <th>25</th>\n",
       "      <td>1331</td>\n",
       "      <td>497</td>\n",
       "      <td>6187</td>\n",
       "    </tr>\n",
       "    <tr>\n",
       "      <th>26</th>\n",
       "      <td>3855</td>\n",
       "      <td>1839</td>\n",
       "      <td>20561</td>\n",
       "    </tr>\n",
       "    <tr>\n",
       "      <th>27</th>\n",
       "      <td>1358</td>\n",
       "      <td>358</td>\n",
       "      <td>5461</td>\n",
       "    </tr>\n",
       "    <tr>\n",
       "      <th>28</th>\n",
       "      <td>1406</td>\n",
       "      <td>493</td>\n",
       "      <td>6089</td>\n",
       "    </tr>\n",
       "    <tr>\n",
       "      <th>29</th>\n",
       "      <td>5852</td>\n",
       "      <td>2243</td>\n",
       "      <td>27247</td>\n",
       "    </tr>\n",
       "    <tr>\n",
       "      <th>31</th>\n",
       "      <td>6817</td>\n",
       "      <td>2008</td>\n",
       "      <td>33137</td>\n",
       "    </tr>\n",
       "    <tr>\n",
       "      <th>32</th>\n",
       "      <td>1421</td>\n",
       "      <td>377</td>\n",
       "      <td>6737</td>\n",
       "    </tr>\n",
       "    <tr>\n",
       "      <th>33</th>\n",
       "      <td>4262</td>\n",
       "      <td>2259</td>\n",
       "      <td>25723</td>\n",
       "    </tr>\n",
       "    <tr>\n",
       "      <th>35</th>\n",
       "      <td>7398</td>\n",
       "      <td>2663</td>\n",
       "      <td>39531</td>\n",
       "    </tr>\n",
       "    <tr>\n",
       "      <th>41</th>\n",
       "      <td>3847</td>\n",
       "      <td>1177</td>\n",
       "      <td>19045</td>\n",
       "    </tr>\n",
       "    <tr>\n",
       "      <th>42</th>\n",
       "      <td>1906</td>\n",
       "      <td>693</td>\n",
       "      <td>9882</td>\n",
       "    </tr>\n",
       "    <tr>\n",
       "      <th>43</th>\n",
       "      <td>5017</td>\n",
       "      <td>1793</td>\n",
       "      <td>27189</td>\n",
       "    </tr>\n",
       "    <tr>\n",
       "      <th>50</th>\n",
       "      <td>1341</td>\n",
       "      <td>385</td>\n",
       "      <td>6327</td>\n",
       "    </tr>\n",
       "    <tr>\n",
       "      <th>51</th>\n",
       "      <td>1631</td>\n",
       "      <td>417</td>\n",
       "      <td>7148</td>\n",
       "    </tr>\n",
       "    <tr>\n",
       "      <th>52</th>\n",
       "      <td>2904</td>\n",
       "      <td>1091</td>\n",
       "      <td>14691</td>\n",
       "    </tr>\n",
       "    <tr>\n",
       "      <th>53</th>\n",
       "      <td>1711</td>\n",
       "      <td>1218</td>\n",
       "      <td>9361</td>\n",
       "    </tr>\n",
       "    <tr>\n",
       "      <th>All</th>\n",
       "      <td>77955</td>\n",
       "      <td>25189</td>\n",
       "      <td>362555</td>\n",
       "    </tr>\n",
       "  </tbody>\n",
       "</table>\n",
       "</div>"
      ],
      "text/plain": [
       "REDE DE ENSINO  Pública  Privada     All\n",
       "REGIÃO                                  \n",
       "11                 1785      294    7120\n",
       "12                 1446      153    4475\n",
       "13                 3764      838   13023\n",
       "14                  769      134    2767\n",
       "15                 5947     1246   22455\n",
       "16                  844      193    2890\n",
       "17                 1750      297    6457\n",
       "21                 2828      391    9270\n",
       "22                 1499      310    5592\n",
       "23                 4143     1476   19122\n",
       "24                 1123      346    5068\n",
       "25                 1331      497    6187\n",
       "26                 3855     1839   20561\n",
       "27                 1358      358    5461\n",
       "28                 1406      493    6089\n",
       "29                 5852     2243   27247\n",
       "31                 6817     2008   33137\n",
       "32                 1421      377    6737\n",
       "33                 4262     2259   25723\n",
       "35                 7398     2663   39531\n",
       "41                 3847     1177   19045\n",
       "42                 1906      693    9882\n",
       "43                 5017     1793   27189\n",
       "50                 1341      385    6327\n",
       "51                 1631      417    7148\n",
       "52                 2904     1091   14691\n",
       "53                 1711     1218    9361\n",
       "All               77955    25189  362555"
      ]
     },
     "execution_count": 155,
     "metadata": {},
     "output_type": "execute_result"
    }
   ],
   "source": [
    "ct2"
   ]
  },
  {
   "cell_type": "markdown",
   "metadata": {},
   "source": [
    "# Conclusão\n",
    "A partir da análise da tabela acima, pode-se afirmar que a faculdade de Sr. Gold seria melhor nos estados de Sâo Paulo\n",
    "(código UF 35), Minas Gerais (código UF 31) ou na Bahia (código UF 29), uma vez que o número de alunos cursando o Ensino Médio,\n",
    "inclusive pré-vestibular, são os maiores nesses estados. Além disso, considerando que o Sr.Gold é um empresário e visa o lucro, \n",
    "mais interessante a abertura de um faculdade particular em São Paulo, uma vez que, analisando a segunda tabela, possui mais\n",
    "alunos que cursam o ensino médio/pré-vestibular em redes particulares."
   ]
  },
  {
   "cell_type": "code",
   "execution_count": 74,
   "metadata": {
    "collapsed": false
   },
   "outputs": [
    {
     "data": {
      "text/plain": [
       "count    3.618360e+05\n",
       "mean     4.899181e+10\n",
       "std      2.158512e+11\n",
       "min      0.000000e+00\n",
       "25%      3.100000e+02\n",
       "50%      6.000000e+02\n",
       "75%      1.125000e+03\n",
       "max      1.000000e+12\n",
       "Name: V4750, dtype: float64"
      ]
     },
     "execution_count": 74,
     "metadata": {},
     "output_type": "execute_result"
    }
   ],
   "source": [
    "#Rendimento mensal familiar per capita \n",
    "salario = dados['V4750']\n",
    "salario.describe() #V8005 - idade"
   ]
  },
  {
   "cell_type": "code",
   "execution_count": 81,
   "metadata": {
    "collapsed": false
   },
   "outputs": [
    {
     "data": {
      "text/plain": [
       "(15, 20]      31615\n",
       "(10, 15]      31418\n",
       "(30, 35]      29744\n",
       "(25, 30]      29004\n",
       "(20, 25]      28795\n",
       "(5, 10]       28071\n",
       "(35, 40]      26775\n",
       "(0, 5]        24791\n",
       "(40, 45]      24567\n",
       "(45, 50]      23414\n",
       "(50, 55]      20383\n",
       "(55, 60]      17486\n",
       "(60, 65]      13761\n",
       "(65, 70]      10067\n",
       "(70, 75]       7628\n",
       "(75, 80]       5122\n",
       "(80, 85]       3087\n",
       "(85, 90]       1455\n",
       "(90, 95]        535\n",
       "(95, 100]       157\n",
       "(100, 105]       38\n",
       "dtype: int64"
      ]
     },
     "execution_count": 81,
     "metadata": {},
     "output_type": "execute_result"
    }
   ],
   "source": [
    "faixa =np.arange (0, 110, 5)\n",
    "idade=pd.cut(dados.V8005, faixa)\n",
    "idade.value_counts()"
   ]
  },
  {
   "cell_type": "code",
   "execution_count": 109,
   "metadata": {
    "collapsed": false
   },
   "outputs": [],
   "source": [
    "#idade_norte = dados[dados.regiao==\"Norte\"].V4750\n",
    "#idade_nordeste = dados[dados.regiao==\"Nordeste\"].V4750\n",
    "#idade_centro_oeste = dados[dados.regiao==\"Centro-Oeste\"].V4750\n",
    "#idade_sudeste = dados[dados.regiao==\"Sudeste\"].V4750\n",
    "#idade_sul = dados[dados.regiao==\"Sul\"].V4750\n",
    "#plot = idade_norte.plot.hist(bins=faixa)"
   ]
  },
  {
   "cell_type": "markdown",
   "metadata": {},
   "source": [
    "# Norte"
   ]
  },
  {
   "cell_type": "code",
   "execution_count": 110,
   "metadata": {
    "collapsed": false
   },
   "outputs": [
    {
     "data": {
      "image/png": "[encoded data removed]",
      "text/plain": [
       "<matplotlib.figure.Figure at 0x24889a30fd0>"
      ]
     },
     "metadata": {},
     "output_type": "display_data"
    }
   ],
   "source": [
    "plt.xlabel(\"Idade\")\n",
    "plot = dados[dados.regiao==\"Norte\"].V8005.plot.hist(bins=faixa)"
   ]
  },
  {
   "cell_type": "code",
   "execution_count": 111,
   "metadata": {
    "collapsed": false
   },
   "outputs": [
    {
     "data": {
      "image/png": "[encoded data removed]",
      "text/plain": [
       "<matplotlib.figure.Figure at 0x248bf5d7e10>"
      ]
     },
     "metadata": {},
     "output_type": "display_data"
    }
   ],
   "source": [
    "plot = dados[dados.regiao==\"Norte\"].V8005.plot.box()"
   ]
  },
  {
   "cell_type": "markdown",
   "metadata": {},
   "source": [
    "# Nordeste"
   ]
  },
  {
   "cell_type": "code",
   "execution_count": 112,
   "metadata": {
    "collapsed": false
   },
   "outputs": [
    {
     "data": {
      "image/png": "[encoded data removed]",
      "text/plain": [
       "<matplotlib.figure.Figure at 0x2488c1cc518>"
      ]
     },
     "metadata": {},
     "output_type": "display_data"
    }
   ],
   "source": [
    "plt.xlabel(\"Idade\")\n",
    "plot = dados[dados.regiao==\"Nordeste\"].V8005.plot.hist(bins=faixa)"
   ]
  },
  {
   "cell_type": "code",
   "execution_count": 113,
   "metadata": {
    "collapsed": false
   },
   "outputs": [
    {
     "data": {
      "image/png": "[encoded data removed]",
      "text/plain": [
       "<matplotlib.figure.Figure at 0x2488c1cc2e8>"
      ]
     },
     "metadata": {},
     "output_type": "display_data"
    }
   ],
   "source": [
    "plot = dados[dados.regiao==\"Nordeste\"].V8005.plot.box()"
   ]
  },
  {
   "cell_type": "markdown",
   "metadata": {},
   "source": [
    "# Centro-Oeste"
   ]
  },
  {
   "cell_type": "code",
   "execution_count": 114,
   "metadata": {
    "collapsed": false
   },
   "outputs": [
    {
     "data": {
      "image/png": "[encoded data removed]",
      "text/plain": [
       "<matplotlib.figure.Figure at 0x24880bdf630>"
      ]
     },
     "metadata": {},
     "output_type": "display_data"
    }
   ],
   "source": [
    "plt.xlabel(\"Idade\")\n",
    "plot = dados[dados.regiao==\"Centro-Oeste\"].V8005.plot.hist(bins=faixa)"
   ]
  },
  {
   "cell_type": "code",
   "execution_count": 115,
   "metadata": {
    "collapsed": false
   },
   "outputs": [
    {
     "data": {
      "image/png": "[encoded data removed]",
      "text/plain": [
       "<matplotlib.figure.Figure at 0x24881b43860>"
      ]
     },
     "metadata": {},
     "output_type": "display_data"
    }
   ],
   "source": [
    "plot = dados[dados.regiao==\"Centro-Oeste\"].V8005.plot.box()"
   ]
  },
  {
   "cell_type": "markdown",
   "metadata": {},
   "source": [
    "# Sudeste"
   ]
  },
  {
   "cell_type": "code",
   "execution_count": 116,
   "metadata": {
    "collapsed": false
   },
   "outputs": [
    {
     "data": {
      "image/png": "[encoded data removed]",
      "text/plain": [
       "<matplotlib.figure.Figure at 0x24882308e80>"
      ]
     },
     "metadata": {},
     "output_type": "display_data"
    }
   ],
   "source": [
    "plt.xlabel(\"Idade\")\n",
    "plot = dados[dados.regiao==\"Sudeste\"].V8005.plot.hist(bins=faixa)"
   ]
  },
  {
   "cell_type": "code",
   "execution_count": 117,
   "metadata": {
    "collapsed": false
   },
   "outputs": [
    {
     "data": {
      "image/png": "[encoded data removed]",
      "text/plain": [
       "<matplotlib.figure.Figure at 0x24881c78940>"
      ]
     },
     "metadata": {},
     "output_type": "display_data"
    }
   ],
   "source": [
    "plot = dados[dados.regiao==\"Sudeste\"].V8005.plot.box()"
   ]
  },
  {
   "cell_type": "markdown",
   "metadata": {},
   "source": [
    "# Sul"
   ]
  },
  {
   "cell_type": "code",
   "execution_count": 118,
   "metadata": {
    "collapsed": false
   },
   "outputs": [
    {
     "data": {
      "image/png": "[encoded data removed]",
      "text/plain": [
       "<matplotlib.figure.Figure at 0x2488204bc50>"
      ]
     },
     "metadata": {},
     "output_type": "display_data"
    }
   ],
   "source": [
    "plt.xlabel(\"Idade\")\n",
    "plot = dados[dados.regiao==\"Sul\"].V8005.plot.hist(bins=faixa)"
   ]
  },
  {
   "cell_type": "code",
   "execution_count": 119,
   "metadata": {
    "collapsed": false
   },
   "outputs": [
    {
     "data": {
      "image/png": "[encoded data removed]",
      "text/plain": [
       "<matplotlib.figure.Figure at 0x248bf5f7390>"
      ]
     },
     "metadata": {},
     "output_type": "display_data"
    }
   ],
   "source": [
    "plot = dados[dados.regiao==\"Sul\"].V8005.plot.box()"
   ]
  },
  {
   "cell_type": "code",
   "execution_count": 120,
   "metadata": {
    "collapsed": false
   },
   "outputs": [
    {
     "data": {
      "text/plain": [
       "count    362555.000000\n",
       "mean          7.600745\n",
       "std           4.877807\n",
       "min           1.000000\n",
       "25%           3.000000\n",
       "50%           8.000000\n",
       "75%          12.000000\n",
       "max          17.000000\n",
       "Name: V4803, dtype: float64"
      ]
     },
     "execution_count": 120,
     "metadata": {},
     "output_type": "execute_result"
    }
   ],
   "source": [
    "dados.V4803.describe()"
   ]
  },
  {
   "cell_type": "code",
   "execution_count": 136,
   "metadata": {
    "collapsed": false
   },
   "outputs": [
    {
     "data": {
      "text/plain": [
       "(11, 13]    77996\n",
       "(3, 5]      46740\n",
       "(7, 9]      45315\n",
       "(5, 7]      34773\n",
       "(15, 17]    28944\n",
       "(1, 3]      24939\n",
       "(9, 11]     22070\n",
       "(13, 15]    10105\n",
       "dtype: int64"
      ]
     },
     "execution_count": 136,
     "metadata": {},
     "output_type": "execute_result"
    }
   ],
   "source": [
    "faixa =np.arange (1, 18, 2)\n",
    "anos_estudados=pd.cut(dados.V4803, faixa)\n",
    "anos_estudados.value_counts()"
   ]
  },
  {
   "cell_type": "markdown",
   "metadata": {},
   "source": [
    "# Norte"
   ]
  },
  {
   "cell_type": "code",
   "execution_count": 137,
   "metadata": {
    "collapsed": false
   },
   "outputs": [
    {
     "data": {
      "image/png": "[encoded data removed]",
      "text/plain": [
       "<matplotlib.figure.Figure at 0x24880b2da20>"
      ]
     },
     "metadata": {},
     "output_type": "display_data"
    }
   ],
   "source": [
    "plt.xlabel(\"Anos estudados\")\n",
    "plot = dados[dados.regiao==\"Norte\"].V4803.plot.hist(bins=faixa)"
   ]
  },
  {
   "cell_type": "code",
   "execution_count": 138,
   "metadata": {
    "collapsed": false
   },
   "outputs": [
    {
     "data": {
      "image/png": "[encoded data removed]",
      "text/plain": [
       "<matplotlib.figure.Figure at 0x24882138630>"
      ]
     },
     "metadata": {},
     "output_type": "display_data"
    }
   ],
   "source": [
    "plot = dados[dados.regiao==\"Norte\"].V4803.plot.box()"
   ]
  },
  {
   "cell_type": "markdown",
   "metadata": {},
   "source": [
    "# Nordeste"
   ]
  },
  {
   "cell_type": "code",
   "execution_count": 139,
   "metadata": {
    "collapsed": false
   },
   "outputs": [
    {
     "data": {
      "image/png": "[encoded data removed]",
      "text/plain": [
       "<matplotlib.figure.Figure at 0x24881e90b00>"
      ]
     },
     "metadata": {},
     "output_type": "display_data"
    }
   ],
   "source": [
    "plt.xlabel(\"Anos estudados\")\n",
    "plot = dados[dados.regiao==\"Nordeste\"].V4803.plot.hist(bins=faixa)"
   ]
  },
  {
   "cell_type": "code",
   "execution_count": 140,
   "metadata": {
    "collapsed": false
   },
   "outputs": [
    {
     "data": {
      "image/png": "[encoded data removed]",
      "text/plain": [
       "<matplotlib.figure.Figure at 0x24889fa25c0>"
      ]
     },
     "metadata": {},
     "output_type": "display_data"
    }
   ],
   "source": [
    "plot = dados[dados.regiao==\"Nordeste\"].V4803.plot.box()"
   ]
  },
  {
   "cell_type": "markdown",
   "metadata": {},
   "source": [
    "# Centro-Oeste"
   ]
  },
  {
   "cell_type": "code",
   "execution_count": 141,
   "metadata": {
    "collapsed": false
   },
   "outputs": [
    {
     "data": {
      "image/png": "[encoded data removed]",
      "text/plain": [
       "<matplotlib.figure.Figure at 0x2488a0120f0>"
      ]
     },
     "metadata": {},
     "output_type": "display_data"
    }
   ],
   "source": [
    "plt.xlabel(\"Anos estudados\")\n",
    "plot = dados[dados.regiao==\"Centro-Oeste\"].V4803.plot.hist(bins=faixa)"
   ]
  },
  {
   "cell_type": "code",
   "execution_count": 142,
   "metadata": {
    "collapsed": false
   },
   "outputs": [
    {
     "data": {
      "image/png": "[encoded data removed]",
      "text/plain": [
       "<matplotlib.figure.Figure at 0x24889f919e8>"
      ]
     },
     "metadata": {},
     "output_type": "display_data"
    }
   ],
   "source": [
    "plot = dados[dados.regiao==\"Centro-Oeste\"].V4803.plot.box()"
   ]
  },
  {
   "cell_type": "markdown",
   "metadata": {},
   "source": [
    "# Sudeste"
   ]
  },
  {
   "cell_type": "code",
   "execution_count": 143,
   "metadata": {
    "collapsed": false
   },
   "outputs": [
    {
     "data": {
      "image/png": "[encoded data removed]",
      "text/plain": [
       "<matplotlib.figure.Figure at 0x24881c41208>"
      ]
     },
     "metadata": {},
     "output_type": "display_data"
    }
   ],
   "source": [
    "plt.xlabel(\"Anos estudados\")\n",
    "plot = dados[dados.regiao==\"Sudeste\"].V4803.plot.hist(bins=faixa)"
   ]
  },
  {
   "cell_type": "code",
   "execution_count": 144,
   "metadata": {
    "collapsed": false
   },
   "outputs": [
    {
     "data": {
      "image/png": "[encoded data removed]",
      "text/plain": [
       "<matplotlib.figure.Figure at 0x24881c585f8>"
      ]
     },
     "metadata": {},
     "output_type": "display_data"
    }
   ],
   "source": [
    "plot = dados[dados.regiao==\"Sudeste\"].V4803.plot.box()"
   ]
  },
  {
   "cell_type": "markdown",
   "metadata": {},
   "source": [
    "# Sul"
   ]
  },
  {
   "cell_type": "code",
   "execution_count": 145,
   "metadata": {
    "collapsed": false
   },
   "outputs": [
    {
     "data": {
      "image/png": "[encoded data removed]",
      "text/plain": [
       "<matplotlib.figure.Figure at 0x248bf5bb828>"
      ]
     },
     "metadata": {},
     "output_type": "display_data"
    }
   ],
   "source": [
    "plt.xlabel(\"Anos estudados\")\n",
    "plot = dados[dados.regiao==\"Sul\"].V4803.plot.hist(bins=faixa)"
   ]
  },
  {
   "cell_type": "code",
   "execution_count": 146,
   "metadata": {
    "collapsed": false
   },
   "outputs": [
    {
     "data": {
      "image/png": "[encoded data removed]",
      "text/plain": [
       "<matplotlib.figure.Figure at 0x24881bc6748>"
      ]
     },
     "metadata": {},
     "output_type": "display_data"
    }
   ],
   "source": [
    "plot = dados[dados.regiao==\"Sul\"].V4803.plot.box()"
   ]
  },
  {
   "cell_type": "code",
   "execution_count": 180,
   "metadata": {
    "collapsed": false
   },
   "outputs": [
    {
     "data": {
      "text/plain": [
       "<matplotlib.axes._subplots.AxesSubplot at 0x2488d77f588>"
      ]
     },
     "execution_count": 180,
     "metadata": {},
     "output_type": "execute_result"
    },
    {
     "data": {
      "image/png": "[encoded data removed]",
      "text/plain": [
       "<matplotlib.figure.Figure at 0x2488d7675c0>"
      ]
     },
     "metadata": {},
     "output_type": "display_data"
    }
   ],
   "source": [
    "educ_default = pd.crosstab(dados.regiao, dados.V4803)\n",
    "educ_default.plot(kind='bar', color=('yellow', 'salmon', 'blue', 'red', 'green'), legend=False)"
   ]
  },
  {
   "cell_type": "markdown",
   "metadata": {},
   "source": [
    "# Conclusão atualizada\n",
    "A partir da análise dos novos dados quantitativos (anos estudados e número de pessoas), foi possivel reafirmar a cnoclusão feita\n",
    "na entrega passada: A melhor região para construir a faculdade de Sr. Gold é a Sudeste! Em especial no estado de São Paulo.\n",
    "Já provamos na entrega anterior que, como o Sr. Gold está visando o lucro, o estado de São Paulo seria o melhor para construir uma faculdade privada, uma vez que o número de alunos na rede de ensino privada é maior. Com a análise atual, pudemos visualizar que o número de potenciais alunos para ingressar em uma faculdade (11 a 13 anos estudados, barra de cor salmão) é maior na região Sudeste. Além disso, o número de jovens na região Sudeste (pessoas com idades entre 15 e 20 anos) é maior do que em todas as outras regiões. Todas essa informações, nos ajudaram a concluir que a faculdade deveria ser construída na região Sudeste, em específico no estado de São Paulo."
   ]
  },
  {
   "cell_type": "code",
   "execution_count": null,
   "metadata": {
    "collapsed": true
   },
   "outputs": [],
   "source": []
  },
  {
   "cell_type": "code",
   "execution_count": null,
   "metadata": {
    "collapsed": true
   },
   "outputs": [],
   "source": []
  }
 ],
 "metadata": {
  "kernelspec": {
   "display_name": "Python 3",
   "language": "python",
   "name": "python3"
  },
  "language_info": {
   "codemirror_mode": {
    "name": "ipython",
    "version": 3
   },
   "file_extension": ".py",
   "mimetype": "text/x-python",
   "name": "python",
   "nbconvert_exporter": "python",
   "pygments_lexer": "ipython3",
   "version": "3.5.1"
  }
 },
 "nbformat": 4,
 "nbformat_minor": 0
}
