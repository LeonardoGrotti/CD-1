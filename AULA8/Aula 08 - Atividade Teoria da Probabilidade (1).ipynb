{
 "cells": [
  {
   "cell_type": "markdown",
   "metadata": {},
   "source": [
    "___\n",
    "# Atividade: Teoria da Probabilidade\n",
    "___\n",
    "\n",
    "## Aula 08\n",
    "\n",
    "**Referência de Leitura:**\n",
    "1. Magalhães e Lima (7ª. Edição): pág. 49 a 68 - Probabilidades\n",
    "\n",
    "**Hoje:**\n",
    "1. Conceito de Probabilidade\n",
    "4. Probabilidade Condicional\n",
    "3. Independência de eventos\n",
    "5. Teorema de Bayes. Simulação do problema de Monty Hall\n",
    "\n",
    "**Próxima aula:**\n",
    "1. Magalhães e Lima (7ª. Edição): pág. 69 a 104 - Variáveis aleatórias discretas\n",
    "___"
   ]
  },
  {
   "cell_type": "code",
   "execution_count": 4,
   "metadata": {
    "collapsed": true
   },
   "outputs": [],
   "source": [
    "%matplotlib inline\n",
    "import pandas as pd\n",
    "import matplotlib.pyplot as plt\n",
    "import numpy as np\n",
    "#Bibliotecas necessárias\n",
    "from numpy.random import shuffle, randint, choice\n"
   ]
  },
  {
   "cell_type": "markdown",
   "metadata": {},
   "source": [
    "## <font color='blue'>Exercício 1</font>\n",
    "\n",
    "Monte a simulação de 1000 jogadas de um dado idôneo de 6 faces. Faça o histograma (normalizado) da frequência.\n",
    "\n",
    "    a) Olhando o histograma, o que pode se dizer sobre as probabilidade de cada face?\n",
    "    \n",
    "    b) Discorra sobre o porque da probabilidade não ser exatamente igual à teórica."
   ]
  },
  {
   "cell_type": "code",
   "execution_count": 6,
   "metadata": {
    "collapsed": false
   },
   "outputs": [
    {
     "data": {
      "image/png": "[encoded data removed]",
      "text/plain": [
       "<matplotlib.figure.Figure at 0x20a06d44ac8>"
      ]
     },
     "metadata": {},
     "output_type": "display_data"
    }
   ],
   "source": [
    "def dado():\n",
    "    Lista=[]\n",
    "    for i in range(1000):\n",
    "        cai = randint(1,7)\n",
    "        Lista.append(cai)\n",
    "    return Lista\n",
    "jogadas=dado()\n",
    "lan=pd.DataFrame(data=dado())\n",
    "faixa=np.arange(1,8,1)\n",
    "plot=lan.plot.hist(bins=faixa)"
   ]
  },
  {
   "cell_type": "markdown",
   "metadata": {},
   "source": [
    "B) Isso ocorre pois são jogadas independentes, ou seja, em um lançamento a probabilidade de cair uma certa face é de 1/6, em um novo lançamento a chance de cair a mesma face  também é um 1/6. Porém, temos o contraste evidente entre o ideal e o real. Ao lançar um dado 6 vezes, a chance de cair, em cada jogada, uma face diferente é muito baixa. Portanto, quanto maior o espaço amostral, mais próximo o modelo estará dos cálculos ideais."
   ]
  },
  {
   "cell_type": "markdown",
   "metadata": {},
   "source": [
    "___\n",
    "## <font color='blue'>Exercício 2</font>\n",
    "\n",
    "Ampliando o espaço amostral para as possíveis jogadas de 2 dados, analise as seguintes situações:\n",
    "    \n",
    "    a) Jogando os dois dados ao mesmo tempo. Qual é a probabilidade de obter soma 7?\n",
    "    \n",
    "    b) Jogando um dado e depois o segundo dado. Qual é a probabilidade de obter soma 7 já sabendo o resultado do primeiro? Compare o resultado com item anterior! Por que é igual ou diferente?"
   ]
  },
  {
   "cell_type": "markdown",
   "metadata": {
    "collapsed": true
   },
   "source": [
    "2a) As combinação para a soma darem 7 são(1,6)(6,1)(5,2)(2,5)(4,3)(3,4), a chance de cair uma determinada face para cada dado é de 1/6, logo para cair uma combinção que da 7 é de 1/6 no dado1 e de 1/6 no dado 2 dando 1/36 para cada combinação, porém pode somar 7 de 6 maneiras diferentes, totalizando uma probabilidade de 1/6 para a soma dar 7.\n",
    "\n",
    "2b)A probabilidade se mantém, pois para qualquer número que caia no primeiro dado ha apenas 1 face no segundo dado que pode fazer com que a soma de 7, ou seja, independentemente de do que ocorrer no primeiro lançamento há apenas 1/6 de chance de a soma resultar 7."
   ]
  },
  {
   "cell_type": "markdown",
   "metadata": {},
   "source": [
    "___\n",
    "## <font color='blue'>Exercício 3</font>\n",
    "\n",
    "Simule 10000 vezes o problema de Monty Hall¹ , usar o seguinte algoritmo:\n",
    "\n",
    "\n",
    "* Repetir 10000 vezes:\n",
    "    * Sorteie um número de porta de 1 a 3 para ser a premiada\n",
    "    * Sorteie um número de porta de 1 a 3 para ser a porta escolhida.\n",
    "    * Sorteie um número de porta para ser a aberta, desde que não seja a premiada e nem a porta escolhida. Assim, se:\n",
    "        * porta premiada é 1 e a escolhida é 1, sorteie entre as portas 2 e 3 para ser aberta\n",
    "        * porta premiada é 1 e a escolhida é 2, com probabilidade 1 deve abrir a porta 3\n",
    "        * porta premiada é 1 e a escolhida é 3, com probabilidade 1 deve abrir a porta 2\n",
    "        * assim para demais casos...\n",
    "    \n",
    "    * Calcule quantas vezes indivíduo ganha ao trocar de porta. Ou seja, se:\n",
    "        * porta premiada é 1, a escolhida é 1 e aberta é 2 (ou 3), indivíduo perde se trocar de porta\n",
    "        * porta premiada é 1, a escolhida é 2 e aberta é 3, indivíduo ganha se trocar de porta\n",
    "        * porta premiada é 1, a escolhida é 3 e aberta é 2, indivíduo ganha se trocar de porta\n",
    "        * assim para demais casos...\n",
    "        \n",
    "    * Exibir quantas vezes em 10000, o indivíduo ganhou ao trocar de porta.\n",
    "\n",
    "Compare o resultado numérico com o resultado analítico obtido via Teorema de Bayes.\n",
    "\n",
    "¹https://en.wikipedia.org/wiki/Monty_Hall_problem e \n",
    "Exercício 1.4.5 de http://www.portalaction.com.br/probabilidades/14-eventos-independentes-e-probabilidade-condicional"
   ]
  },
  {
   "cell_type": "code",
   "execution_count": 7,
   "metadata": {
    "collapsed": false
   },
   "outputs": [
    {
     "name": "stdout",
     "output_type": "stream",
     "text": [
      "6644\n",
      "3356\n"
     ]
    }
   ],
   "source": [
    "ganhou = 0\n",
    "perdeu = 0\n",
    "for i in range (10000):\n",
    "    premiada = randint(1,4)\n",
    "    escolhida = randint(1,4)\n",
    "    terceira = randint(1,4)\n",
    "    while terceira == premiada or terceira == escolhida:\n",
    "        terceira = randint(1,4)\n",
    "    if escolhida == premiada:\n",
    "        perdeu +=1\n",
    "    if escolhida!= premiada:\n",
    "        ganhou +=1\n",
    "        \n",
    "print (ganhou)\n",
    "    \n",
    "print(perdeu)   \n",
    "\n",
    "    "
   ]
  },
  {
   "cell_type": "code",
   "execution_count": null,
   "metadata": {
    "collapsed": true
   },
   "outputs": [],
   "source": []
  }
 ],
 "metadata": {
  "anaconda-cloud": {},
  "kernelspec": {
   "display_name": "Python [Root]",
   "language": "python",
   "name": "Python [Root]"
  },
  "language_info": {
   "codemirror_mode": {
    "name": "ipython",
    "version": 3
   },
   "file_extension": ".py",
   "mimetype": "text/x-python",
   "name": "python",
   "nbconvert_exporter": "python",
   "pygments_lexer": "ipython3",
   "version": "3.5.2"
  }
 },
 "nbformat": 4,
 "nbformat_minor": 0
}
